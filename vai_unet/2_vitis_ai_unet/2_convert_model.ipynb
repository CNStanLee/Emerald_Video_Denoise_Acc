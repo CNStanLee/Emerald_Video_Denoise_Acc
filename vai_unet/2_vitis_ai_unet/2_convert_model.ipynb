{
 "cells": [
  {
   "cell_type": "markdown",
   "id": "673c8203",
   "metadata": {},
   "source": [
    "# Convert the model\n",
    "In this notebook, we convert the model from float 32 to vitis-ai model aka xmodel\n",
    "\n",
    "## Get into VAI enviroment\n",
    "cd into 5_vai_contianer\n",
    "sudo su\n",
    "source start_vai.sh\n",
    "\n",
    "\n",
    "```shell\n",
    "Vitis-AI /workspace > conda activate vitis-ai-pytorch\n",
    "(vitis-ai-pytorch) Vitis-AI /workspace >\n",
    "```\n",
    "\n",
    "```shell\n",
    "(vitis-ai-pytorch) Vitis-AI /workspace > source run_all.sh\n",
    "```\n",
    "\n"
   ]
  },
  {
   "cell_type": "code",
   "execution_count": null,
   "id": "25ec8876",
   "metadata": {
    "vscode": {
     "languageId": "plaintext"
    }
   },
   "outputs": [],
   "source": []
  }
 ],
 "metadata": {
  "language_info": {
   "name": "python"
  }
 },
 "nbformat": 4,
 "nbformat_minor": 5
}
